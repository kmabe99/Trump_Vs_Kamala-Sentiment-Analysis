{
 "cells": [
  {
   "cell_type": "markdown",
   "id": "afabda9f",
   "metadata": {},
   "source": [
    "# Sentiment Analysis of Trump vs Harris Tweets Using Flair\n",
    "This notebook performs sentiment analysis on tweets related to **Harris** and **Trump** using the **Flair** NLP library.\n",
    "\n",
    "### Sections:\n",
    "1. **Data Wrangling** - Cleaning the tweet dataset.\n",
    "2. **Data Analysis** - Performing sentiment analysis using Flair.\n",
    "3. **Results & Visualization** - Displaying sentiment distribution with conclusions.\n",
    "\n",
    "**Flair** is a deep-learning-based NLP library that provides accurate sentiment classification compared to traditional rule-based methods."
   ]
  },
  {
   "cell_type": "code",
   "execution_count": null,
   "id": "27a521af",
   "metadata": {},
   "outputs": [],
   "source": [
    "!pip install flair pandas nltk emoji matplotlib"
   ]
  },
  {
   "cell_type": "code",
   "execution_count": 1,
   "id": "96cdac1e",
   "metadata": {},
   "outputs": [
    {
     "name": "stderr",
     "output_type": "stream",
     "text": [
      "[nltk_data] Downloading package stopwords to\n",
      "[nltk_data]     /Users/student/nltk_data...\n",
      "[nltk_data]   Package stopwords is already up-to-date!\n"
     ]
    }
   ],
   "source": [
    "import pandas as pd\n",
    "import re\n",
    "import emoji\n",
    "import nltk\n",
    "import matplotlib.pyplot as plt\n",
    "from flair.models import TextClassifier\n",
    "from flair.data import Sentence\n",
    "from nltk.corpus import stopwords\n",
    "\n",
    "# Download stop words if not available\n",
    "nltk.download('stopwords')\n",
    "stop_words = set(stopwords.words('english'))"
   ]
  },
  {
   "cell_type": "markdown",
   "id": "3a5fe7c9",
   "metadata": {},
   "source": [
    "## 1️⃣ Data Wrangling - Cleaning the Tweet Data\n",
    "In this section, we:\n",
    "- Remove **retweets (RT)**, URLs, mentions, hashtags, and special characters.\n",
    "- Convert text to **lowercase**.\n",
    "- Remove **stopwords** for better sentiment analysis.\n",
    "- Remove **non-ASCII characters** to prevent encoding issues."
   ]
  },
  {
   "cell_type": "code",
   "execution_count": 3,
   "id": "eb2afa72",
   "metadata": {},
   "outputs": [
    {
     "name": "stdout",
     "output_type": "stream",
     "text": [
      "✅ Datasets Loaded!\n"
     ]
    }
   ],
   "source": [
    "# Load datasets\n",
    "harris_df = pd.read_csv('/Users/student/Documents/Spring Babson 2025/Advanced Programming/Week 2/In Class/Data/harris.csv')\n",
    "trump_df = pd.read_csv('/Users/student/Documents/Spring Babson 2025/Advanced Programming/Week 2/In Class/Data/trump.csv')\n",
    "print('✅ Datasets Loaded!')"
   ]
  },
  {
   "cell_type": "code",
   "execution_count": 5,
   "id": "143286ac",
   "metadata": {},
   "outputs": [],
   "source": [
    "# Function to clean tweets\n",
    "def clean_tweet(text):\n",
    "    if isinstance(text, str):  # Ensure it's a string\n",
    "        text = text.lower().strip()  # Convert to lowercase and strip spaces\n",
    "        text = re.sub(r'^rt\\s+', '', text)  # Remove 'RT' at the beginning\n",
    "        text = re.sub(r'http\\S+|www\\S+', '', text)  # Remove URLs\n",
    "        text = re.sub(r'@\\w+', '', text)  # Remove mentions\n",
    "        text = re.sub(r'#\\w+', '', text)  # Remove hashtags\n",
    "        text = re.sub(r'[^a-zA-Z0-9.,!?\\'\\s]', '', text)  # Remove special characters except punctuation\n",
    "        text = re.sub(r'\\s+', ' ', text)  # Normalize multiple spaces\n",
    "        text = text.encode('ascii', 'ignore').decode()  # Remove non-ASCII characters\n",
    "        text = emoji.replace_emoji(text, replace='')  # Remove emojis\n",
    "        text = ' '.join([word for word in text.split() if word not in stop_words])  # Remove stop words\n",
    "        text = text.strip()  # Final trim to remove excess spaces\n",
    "    return text"
   ]
  },
  {
   "cell_type": "code",
   "execution_count": 7,
   "id": "22d7d546",
   "metadata": {},
   "outputs": [
    {
     "name": "stdout",
     "output_type": "stream",
     "text": [
      "✅ Tweets cleaned!\n"
     ]
    }
   ],
   "source": [
    "# Apply text cleaning\n",
    "harris_df['Cleaned_Tweet'] = harris_df['Tweet'].apply(clean_tweet)\n",
    "trump_df['Cleaned_Tweet'] = trump_df['Tweet'].apply(clean_tweet)\n",
    "print('✅ Tweets cleaned!')"
   ]
  },
  {
   "cell_type": "markdown",
   "id": "3b0bb3d9",
   "metadata": {},
   "source": [
    "## 2️⃣ Data Analysis - Sentiment Analysis Using Flair\n",
    "Now that the data is clean, we perform sentiment analysis using the **Flair** NLP library.\n",
    "\n",
    "Flair provides a deep-learning-based sentiment classifier that categorizes tweets as **Positive**, **Negative**, or **Neutral**."
   ]
  },
  {
   "cell_type": "code",
   "execution_count": 10,
   "id": "efc41157",
   "metadata": {},
   "outputs": [],
   "source": [
    "# Load Flair sentiment model\n",
    "sentiment_model = TextClassifier.load('sentiment')\n",
    "\n",
    "# Function to get sentiment using Flair\n",
    "def get_sentiment_flair(text):\n",
    "    text = str(text).strip()\n",
    "    if text == '':  # Handle empty text\n",
    "        return 'NEUTRAL'\n",
    "    sentence = Sentence(text)\n",
    "    sentiment_model.predict(sentence)\n",
    "    return sentence.labels[0].value if sentence.labels else 'NEUTRAL'"
   ]
  },
  {
   "cell_type": "code",
   "execution_count": 12,
   "id": "0dcdb9d1",
   "metadata": {},
   "outputs": [
    {
     "name": "stdout",
     "output_type": "stream",
     "text": [
      "✅ Sentiment Analysis Completed!\n"
     ]
    }
   ],
   "source": [
    "# Apply Flair sentiment analysis\n",
    "harris_df['Sentiment_Label'] = harris_df['Cleaned_Tweet'].apply(get_sentiment_flair)\n",
    "trump_df['Sentiment_Label'] = trump_df['Cleaned_Tweet'].apply(get_sentiment_flair)\n",
    "print('✅ Sentiment Analysis Completed!')"
   ]
  },
  {
   "cell_type": "markdown",
   "id": "4f041f39",
   "metadata": {},
   "source": [
    "## 3️⃣ Results & Visualization\n",
    "We visualize the distribution of **Positive, Negative, and Neutral** sentiments for each dataset."
   ]
  },
  {
   "cell_type": "code",
   "execution_count": 16,
   "id": "b22bfa35",
   "metadata": {},
   "outputs": [
    {
     "data": {
      "image/png": "[encoded data removed]",
      "text/plain": [
       "<Figure size 600x400 with 1 Axes>"
      ]
     },
     "metadata": {},
     "output_type": "display_data"
    },
    {
     "data": {
      "image/png": "[encoded data removed]",
      "text/plain": [
       "<Figure size 600x400 with 1 Axes>"
      ]
     },
     "metadata": {},
     "output_type": "display_data"
    }
   ],
   "source": [
    "# Function to plot sentiment distribution\n",
    "def plot_sentiment_distribution(df, title):\n",
    "    sentiment_counts = df['Sentiment_Label'].value_counts()\n",
    "    plt.figure(figsize=(6,4))\n",
    "    sentiment_counts.plot(kind='bar', color=['red', 'blue', 'gray'])\n",
    "    plt.title(f'Sentiment Distribution - {title}')\n",
    "    plt.xlabel('Sentiment')\n",
    "    plt.ylabel('Tweet Count')\n",
    "    plt.xticks(rotation=0)\n",
    "    plt.show()\n",
    "\n",
    "# Plot sentiment distributions\n",
    "plot_sentiment_distribution(harris_df, 'Harris')\n",
    "plot_sentiment_distribution(trump_df, 'Trump')"
   ]
  },
  {
   "cell_type": "markdown",
   "id": "86ffa903",
   "metadata": {},
   "source": [
    "## 4️⃣ Conclusion & Limitations\n",
    "\n",
    "### **Observations:**\n",
    "- The majority of tweets for both **Harris** and **Trump** have a **Negative** sentiment.\n",
    "- There are significant differences in the proportions of **Positive** and **Negative** tweets between the two candidates. Normally people are more likley to speak negativley on someones behalf then speak positivley, think for example restuarant reviews which could explain the numerous **Negative** analysis on both candidates.\n",
    "- **Harris** does appear to have a slight advantage in more **Positive** sentiment tweets.\n",
    "- Flair provides deep-learning-based sentiment classification, offering better accuracy than rule-based methods.\n",
    "\n",
    "### **Limitations of Using Flair for Sentiment Analysis:**\n",
    "1. **Context Understanding:** Flair does not fully capture **sarcasm** or **complex contextual sentiment**.\n",
    "2. **Binary Sentiment:** It only classifies text into **Positive or Negative**, while putting **Neutral** values where there are no text.\n",
    "3. **Computationally Expensive:** Processing large datasets takes longer compared to simpler models like TextBlob.\n",
    "4. **Bias in Training Data:** The sentiment model may inherit biases from the data it was trained on.\n",
    "\n",
    "**Future Improvements:**\n",
    "- Experiment with **fine-tuning Flair models** for better contextual understanding.\n",
    "- Consider **multi-class sentiment models** to detect emotions beyond positive/negative polarity."
   ]
  }
 ],
 "metadata": {
  "kernelspec": {
   "display_name": "Python 3 (ipykernel)",
   "language": "python",
   "name": "python3"
  },
  "language_info": {
   "codemirror_mode": {
    "name": "ipython",
    "version": 3
   },
   "file_extension": ".py",
   "mimetype": "text/x-python",
   "name": "python",
   "nbconvert_exporter": "python",
   "pygments_lexer": "ipython3",
   "version": "3.12.7"
  }
 },
 "nbformat": 4,
 "nbformat_minor": 5
}
